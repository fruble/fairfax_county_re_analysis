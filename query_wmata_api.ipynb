{
 "cells": [
  {
   "cell_type": "markdown",
   "metadata": {},
   "source": [
    "# Query WMATA API\n",
    "\n",
    "We want to add distances to WMATA stations to our data, to do this we will query the WMATA API\n"
   ]
  },
  {
   "cell_type": "code",
   "execution_count": 1,
   "metadata": {},
   "outputs": [],
   "source": [
    "import http.client, urllib.request, urllib.parse, urllib.error, ssl \n",
    "import json\n",
    "import pandas as pd"
   ]
  },
  {
   "cell_type": "code",
   "execution_count": 2,
   "metadata": {},
   "outputs": [],
   "source": [
    "\n",
    "ssl._create_default_https_context = ssl._create_unverified_context\n",
    "\n",
    "# Thank you WMATA for the code snippet! https://developer.wmata.com/docs/services/\n",
    "headers = {\n",
    "    # Request headers\n",
    "    'api_key': 'your_api_key_here', \n",
    "}\n",
    "\n",
    "params = urllib.parse.urlencode({\n",
    "})\n",
    "\n",
    "try:\n",
    "    conn = http.client.HTTPSConnection('api.wmata.com')\n",
    "    conn.request(\"GET\", \"/Rail.svc/json/jStations?%s\" % params, \"{body}\", headers)\n",
    "    response = conn.getresponse()\n",
    "    data = response.read()\n",
    "    # print(data)\n",
    "    conn.close()\n",
    "except Exception as e:\n",
    "    print(\"[Errno {0}] {1}\".format(e.errno, e.strerror))\n",
    "\n",
    "data_json = json.loads(data.decode(\"UTF-8\"))\n",
    "wmata_stations_df = pd.DataFrame(data_json['Stations'])"
   ]
  },
  {
   "cell_type": "code",
   "execution_count": 3,
   "metadata": {},
   "outputs": [],
   "source": [
    "# extract the state from the address data provided\n",
    "wmata_stations_df['state'] = wmata_stations_df['Address'].apply(lambda x: x['State'])"
   ]
  },
  {
   "cell_type": "code",
   "execution_count": 4,
   "metadata": {},
   "outputs": [
    {
     "data": {
      "text/html": [
       "<div>\n",
       "<style scoped>\n",
       "    .dataframe tbody tr th:only-of-type {\n",
       "        vertical-align: middle;\n",
       "    }\n",
       "\n",
       "    .dataframe tbody tr th {\n",
       "        vertical-align: top;\n",
       "    }\n",
       "\n",
       "    .dataframe thead th {\n",
       "        text-align: right;\n",
       "    }\n",
       "</style>\n",
       "<table border=\"1\" class=\"dataframe\">\n",
       "  <thead>\n",
       "    <tr style=\"text-align: right;\">\n",
       "      <th></th>\n",
       "      <th>Code</th>\n",
       "      <th>Name</th>\n",
       "      <th>StationTogether1</th>\n",
       "      <th>StationTogether2</th>\n",
       "      <th>LineCode1</th>\n",
       "      <th>LineCode2</th>\n",
       "      <th>LineCode3</th>\n",
       "      <th>LineCode4</th>\n",
       "      <th>Lat</th>\n",
       "      <th>Lon</th>\n",
       "      <th>Address</th>\n",
       "      <th>state</th>\n",
       "    </tr>\n",
       "  </thead>\n",
       "  <tbody>\n",
       "    <tr>\n",
       "      <th>0</th>\n",
       "      <td>A01</td>\n",
       "      <td>Metro Center</td>\n",
       "      <td>C01</td>\n",
       "      <td></td>\n",
       "      <td>RD</td>\n",
       "      <td>None</td>\n",
       "      <td>None</td>\n",
       "      <td>None</td>\n",
       "      <td>38.898303</td>\n",
       "      <td>-77.028099</td>\n",
       "      <td>{'Street': '607 13th St. NW', 'City': 'Washing...</td>\n",
       "      <td>DC</td>\n",
       "    </tr>\n",
       "    <tr>\n",
       "      <th>27</th>\n",
       "      <td>C01</td>\n",
       "      <td>Metro Center</td>\n",
       "      <td>A01</td>\n",
       "      <td></td>\n",
       "      <td>BL</td>\n",
       "      <td>OR</td>\n",
       "      <td>SV</td>\n",
       "      <td>None</td>\n",
       "      <td>38.898303</td>\n",
       "      <td>-77.028099</td>\n",
       "      <td>{'Street': '607 13th St. NW', 'City': 'Washing...</td>\n",
       "      <td>DC</td>\n",
       "    </tr>\n",
       "  </tbody>\n",
       "</table>\n",
       "</div>"
      ],
      "text/plain": [
       "   Code          Name StationTogether1 StationTogether2 LineCode1 LineCode2  \\\n",
       "0   A01  Metro Center              C01                         RD      None   \n",
       "27  C01  Metro Center              A01                         BL        OR   \n",
       "\n",
       "   LineCode3 LineCode4        Lat        Lon  \\\n",
       "0       None      None  38.898303 -77.028099   \n",
       "27        SV      None  38.898303 -77.028099   \n",
       "\n",
       "                                              Address state  \n",
       "0   {'Street': '607 13th St. NW', 'City': 'Washing...    DC  \n",
       "27  {'Street': '607 13th St. NW', 'City': 'Washing...    DC  "
      ]
     },
     "execution_count": 4,
     "metadata": {},
     "output_type": "execute_result"
    }
   ],
   "source": [
    "wmata_stations_df[wmata_stations_df['Name'] == \"Metro Center\"]"
   ]
  },
  {
   "cell_type": "code",
   "execution_count": 5,
   "metadata": {},
   "outputs": [
    {
     "data": {
      "text/plain": [
       "True"
      ]
     },
     "execution_count": 5,
     "metadata": {},
     "output_type": "execute_result"
    }
   ],
   "source": [
    "wmata_stations_df['Code'].nunique() == len(wmata_stations_df)"
   ]
  },
  {
   "cell_type": "markdown",
   "metadata": {},
   "source": [
    "Upon quick inspection it looks like there are some stations that are entered twice in this data. For example, Metro Center appears two times, once listing BL OR and SV lines, and once listing just the RD line. Each entry has a unique Code, but these duplicate stations have the same name and Lat/Lon coordinates but different codes. These entries are linked together by the StationTogether1 column containing the other entry's Code.\n",
    "\n",
    "If we wanted just a list of unique stations and their locations we could select the names and coordinates and drop duplicates, but I want to preserve the line assignments in case those are useful later on. The format of having columns LineCode1, LineCode2, LineCode3 is also a bit unexpected, since there are only 6 lines I think having a boolean column for each line indicating whether a station services that line seems cleaner."
   ]
  },
  {
   "cell_type": "code",
   "execution_count": 6,
   "metadata": {},
   "outputs": [],
   "source": [
    "wmata_stations_df['lines_list'] = wmata_stations_df.apply(\n",
    "    lambda x:[i for i in [x['LineCode1'], x['LineCode2'], x['LineCode3']] if i is not None], \n",
    "    axis=1\n",
    ")\n",
    "\n",
    "wmata_stations_df = wmata_stations_df.groupby(by=['Name', 'state', 'Lat', 'Lon'])['lines_list'].sum().reset_index()\n",
    "\n",
    "wmata_lines = ['OR', 'SV', 'BL', 'YL', 'GR', 'RD']  \n",
    "for line in wmata_lines:\n",
    "    wmata_stations_df[line.lower()+'_line'] = wmata_stations_df['lines_list'].apply(lambda x: line in x)\n",
    "\n",
    "# clean columns/column names\n",
    "wmata_stations_df = (\n",
    "    wmata_stations_df\n",
    "    .drop(columns=['lines_list'])\n",
    "    .rename(columns={\n",
    "        'Name':'station_name', \n",
    "        'state':'station_state',\n",
    "        'Lat':'station_lat', \n",
    "        'Lon':'station_lon',\n",
    "    })\n",
    ")"
   ]
  },
  {
   "cell_type": "code",
   "execution_count": 7,
   "metadata": {},
   "outputs": [],
   "source": [
    "wmata_stations_df.to_csv(\"data/wmata_stations.csv\", index=False)"
   ]
  },
  {
   "cell_type": "code",
   "execution_count": null,
   "metadata": {},
   "outputs": [],
   "source": []
  }
 ],
 "metadata": {
  "kernelspec": {
   "display_name": ".venv",
   "language": "python",
   "name": "python3"
  },
  "language_info": {
   "codemirror_mode": {
    "name": "ipython",
    "version": 3
   },
   "file_extension": ".py",
   "mimetype": "text/x-python",
   "name": "python",
   "nbconvert_exporter": "python",
   "pygments_lexer": "ipython3",
   "version": "3.12.4"
  }
 },
 "nbformat": 4,
 "nbformat_minor": 2
}
